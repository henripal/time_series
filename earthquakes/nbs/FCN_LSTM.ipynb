{
 "cells": [
  {
   "cell_type": "code",
   "execution_count": 1,
   "metadata": {},
   "outputs": [],
   "source": [
    "import numpy as np\n",
    "import matplotlib.pyplot as plt\n",
    "import pathlib\n",
    "import os\n",
    "%matplotlib inline\n",
    "import torch\n",
    "import torch.nn as nn\n",
    "import torch.nn.functional as F\n",
    "import torch.utils.data as torchdata\n",
    "import fastai\n"
   ]
  },
  {
   "cell_type": "markdown",
   "metadata": {},
   "source": [
    "# Fast AI Time Series Competition No1: Earthquakes.\n",
    "\n",
    "Data is already downloaded in `../data/`. This notebook is mostly exploratory - trying a couple of baseline models."
   ]
  },
  {
   "cell_type": "markdown",
   "metadata": {},
   "source": [
    "## Data Loading"
   ]
  },
  {
   "cell_type": "code",
   "execution_count": 2,
   "metadata": {},
   "outputs": [],
   "source": [
    "data_path = pathlib.Path('../data')"
   ]
  },
  {
   "cell_type": "code",
   "execution_count": 3,
   "metadata": {},
   "outputs": [
    {
     "data": {
      "text/plain": [
       "['Earthquakes_TEST.txt',\n",
       " 'Earthquakes.txt',\n",
       " 'Earthquakes_TRAIN.arff',\n",
       " 'GADF',\n",
       " 'Earthquakes_TRAIN.txt',\n",
       " 'Earthquakes_TEST.arff']"
      ]
     },
     "execution_count": 3,
     "metadata": {},
     "output_type": "execute_result"
    }
   ],
   "source": [
    "os.listdir(data_path)"
   ]
  },
  {
   "cell_type": "code",
   "execution_count": 4,
   "metadata": {},
   "outputs": [],
   "source": [
    "train = np.loadtxt(data_path/'Earthquakes_TRAIN.txt')\n",
    "test = np.loadtxt(data_path/'Earthquakes_TEST.txt')"
   ]
  },
  {
   "cell_type": "code",
   "execution_count": 5,
   "metadata": {},
   "outputs": [],
   "source": [
    "train, train_labels = train[:, 1:], train[:, 0].astype(np.int)\n",
    "test, test_labels = test[:, 1:], test[:, 0].astype(np.int)"
   ]
  },
  {
   "cell_type": "markdown",
   "metadata": {},
   "source": [
    "We've now nicely numpified our data. Let's try a couple of very simple models."
   ]
  },
  {
   "cell_type": "code",
   "execution_count": 6,
   "metadata": {},
   "outputs": [],
   "source": [
    "def test_accuracy(predictions):\n",
    "    return np.mean(test_labels == predictions)\n",
    "\n",
    "def pretty_result(result, method):\n",
    "    print(\"Accuracy of {0}: {1:.4f}\".format(method, result))\n",
    "    \n",
    "    \n",
    "def normalize_features(features):\n",
    "    train_mean = np.mean(train)\n",
    "    train_std = np.std(train)\n",
    "    return (features - train_mean)/train_std"
   ]
  },
  {
   "cell_type": "markdown",
   "metadata": {},
   "source": [
    "## Constant Models:"
   ]
  },
  {
   "cell_type": "code",
   "execution_count": 7,
   "metadata": {},
   "outputs": [
    {
     "name": "stdout",
     "output_type": "stream",
     "text": [
      "Accuracy of all trues: 0.2518\n",
      "Accuracy of all falses: 0.7482\n"
     ]
    }
   ],
   "source": [
    "pretty_result(test_accuracy(np.ones_like(test_labels)), \"all trues\")\n",
    "pretty_result(test_accuracy(np.zeros_like(test_labels)), \"all falses\")\n"
   ]
  },
  {
   "cell_type": "markdown",
   "metadata": {},
   "source": [
    "## LSTM-FCNN\n",
    "This is a reimplementation of the LSTM-FCNN from https://ieeexplore-ieee-org.ezproxy.cul.columbia.edu/ielx7/6287639/8274985/08141873.pdf?tp=&arnumber=8141873&isnumber=8274985&tag=1\n",
    "\n",
    "The reported accuracy on the Earthquakes dataset in the paper is .8354."
   ]
  },
  {
   "cell_type": "code",
   "execution_count": 32,
   "metadata": {},
   "outputs": [],
   "source": [
    "class ShuffleLSTM(nn.Module):\n",
    "    def __init__(self, seq_length, dropout=0.0, hidden_size=128, num_layers=1, bidirectional=False):\n",
    "        super().__init__()\n",
    "        self.lstm = nn.LSTM(input_size=seq_length,\n",
    "                           hidden_size=hidden_size,\n",
    "                           num_layers=num_layers,\n",
    "                           bidirectional=bidirectional)\n",
    "        self.dropout = nn.Dropout(dropout)\n",
    "        \n",
    "    def forward(self, x):\n",
    "        ## input size will be the seq_len, batch, input_size = 312, 64, 1 \n",
    "        ## we start with the shuffle layer, transforming this in a 1 step multivariate TS:\n",
    "        ## output should be 1, 64, 312\n",
    "        x = torch.transpose(x, 0, 2)\n",
    "        out, (_, _) = self.lstm(x)\n",
    "        # after the lstm, the output will be 1, bs, lstm_size\n",
    "        return self.dropout(out)"
   ]
  },
  {
   "cell_type": "code",
   "execution_count": 33,
   "metadata": {},
   "outputs": [],
   "source": [
    "class ConvLayer(nn.Module):\n",
    "    def __init__(self, in_channels=1, n_channels=128, kernel_size=8, dropout=0.0):\n",
    "        super().__init__()\n",
    "        self.conv = nn.Conv1d(in_channels=in_channels,\n",
    "                             out_channels=n_channels,\n",
    "                             kernel_size=kernel_size)\n",
    "        self.bn = nn.BatchNorm1d(num_features=n_channels)\n",
    "        self.dropout = nn.Dropout(dropout)\n",
    "        \n",
    "    def forward(self, x):\n",
    "        # input size should be batch, input_size, length = 64, 1, 312 at first\n",
    "        x = self.conv(x)\n",
    "        # now batch, n_channels, L\n",
    "        x = self.bn(x)\n",
    "        x = F.relu(x)\n",
    "        # output will be bs, n_filters, L (not equal to inital L)\n",
    "        return self.dropout(x)\n",
    "    "
   ]
  },
  {
   "cell_type": "code",
   "execution_count": 34,
   "metadata": {},
   "outputs": [],
   "source": [
    "class LSTM_FCNN(nn.Module):\n",
    "    def __init__(self,\n",
    "                 seq_length,\n",
    "                 lstm_dropout=0.0,\n",
    "                 lstm_hidden_size=128,\n",
    "                 lstm_num_layers=1,\n",
    "                 lstm_bidirectional=False,\n",
    "                 conv_n_channels = [128, 256, 128],\n",
    "                 conv_kernel_sizes = [8, 5, 3],\n",
    "                 conv_dropout=0.0):\n",
    "        \n",
    "        super().__init__()\n",
    "        \n",
    "        self.lstm = ShuffleLSTM(seq_length,\n",
    "                                lstm_dropout,\n",
    "                                lstm_hidden_size,\n",
    "                                lstm_num_layers,\n",
    "                                lstm_bidirectional)\n",
    "        self.convs = []\n",
    "        \n",
    "        # global pool is avg pool using the last conv layer's size\n",
    "        self.global_avg_pool = nn.AvgPool1d(kernel_size = conv_n_channels[-1])\n",
    "        \n",
    "        # we set input equal to the previous channel's n\n",
    "        input_n = 1\n",
    "        for n_c, k_s in zip(conv_n_channels, conv_kernel_sizes):\n",
    "            conv = ConvLayer(input_n, n_c, k_s, conv_dropout)\n",
    "            self.convs.append(conv.cuda())\n",
    "            input_n = n_c\n",
    "            \n",
    "        # for the last FC layer, we need to know how long the TS is after \n",
    "        # the convolutional layers\n",
    "        out_len = seq_length - sum(conv_kernel_sizes) + len(conv_kernel_sizes)\n",
    "        \n",
    "        self.linear = nn.Linear(out_len + lstm_hidden_size, 1)\n",
    "        \n",
    "        \n",
    "        \n",
    "    def forward(self, x):\n",
    "        # our input is batch, seq_len\n",
    "        x = torch.transpose(x, 0, 1)\n",
    "        # seq_len, batch\n",
    "        x = x.unsqueeze(2)\n",
    "        # seq_len, batch, 1\n",
    "        \n",
    "        \n",
    "        # we need seq_len, batch, input_size = 312, 64, 1\n",
    "        lstm_out = self.lstm(x)\n",
    "        lstm_out = torch.squeeze(lstm_out)\n",
    "        # lstm_out is bs, lstm_size\n",
    "        \n",
    "        # we transpose x to be convolutionable:\n",
    "        x = torch.transpose(x, 0, 1)\n",
    "        # bs, seq_len, dimension\n",
    "        x = torch.transpose(x, 1, 2)\n",
    "        # bs, dimension, seq_len\n",
    "        for conv_layer in self.convs:\n",
    "            x = conv_layer(x)\n",
    "        # x is now bs, dimension, L\n",
    "        # avgpool1d averages over the last dimension so we transpose again\n",
    "        x = torch.transpose(x, 1, 2)\n",
    "        # bs, L, dimension\n",
    "        x = self.global_avg_pool(x)\n",
    "        x = torch.squeeze(x)\n",
    "        # bs, L\n",
    "        \n",
    "        concat = torch.cat((lstm_out, x), 1)\n",
    "        \n",
    "        return self.linear(concat)\n"
   ]
  },
  {
   "cell_type": "code",
   "execution_count": 35,
   "metadata": {},
   "outputs": [],
   "source": [
    "train_ds = torchdata.TensorDataset(\n",
    "    torch.tensor(train, dtype=torch.float32),\n",
    "    torch.tensor(train_labels, dtype=torch.float32).unsqueeze(1))\n",
    "test_ds = torchdata.TensorDataset(\n",
    "    torch.tensor(test, dtype=torch.float32),\n",
    "    torch.tensor(test_labels, dtype=torch.float32).unsqueeze(1))"
   ]
  },
  {
   "cell_type": "code",
   "execution_count": 36,
   "metadata": {},
   "outputs": [],
   "source": [
    "train_dl = torchdata.DataLoader(train_ds, batch_size=32, shuffle=True)\n",
    "test_dl = torchdata.DataLoader(test_ds, batch_size=32, shuffle=True)"
   ]
  },
  {
   "cell_type": "code",
   "execution_count": 37,
   "metadata": {},
   "outputs": [],
   "source": [
    "data = fastai.DataBunch(train_dl, test_dl)"
   ]
  },
  {
   "cell_type": "code",
   "execution_count": 66,
   "metadata": {},
   "outputs": [],
   "source": [
    "model = LSTM_FCNN(512, lstm_dropout=0.9)"
   ]
  },
  {
   "cell_type": "code",
   "execution_count": 67,
   "metadata": {},
   "outputs": [],
   "source": [
    "loss = nn.BCEWithLogitsLoss()"
   ]
  },
  {
   "cell_type": "code",
   "execution_count": 68,
   "metadata": {},
   "outputs": [],
   "source": [
    "learner = fastai.Learner(data, model, loss_func=loss)"
   ]
  },
  {
   "cell_type": "code",
   "execution_count": 69,
   "metadata": {},
   "outputs": [
    {
     "name": "stdout",
     "output_type": "stream",
     "text": [
      "LR Finder is complete, type {learner_name}.recorder.plot() to see the graph.\n"
     ]
    },
    {
     "data": {
      "image/png": "[encoded data removed]",
      "text/plain": [
       "<matplotlib.figure.Figure at 0x7f760c7a1588>"
      ]
     },
     "metadata": {},
     "output_type": "display_data"
    }
   ],
   "source": [
    "learner.lr_find(); learner.recorder.plot()"
   ]
  },
  {
   "cell_type": "code",
   "execution_count": 70,
   "metadata": {},
   "outputs": [
    {
     "name": "stdout",
     "output_type": "stream",
     "text": [
      "Total time: 00:00\n",
      "epoch  train_loss  valid_loss\n",
      "1      0.650414    0.644129    (00:00)\n",
      "2      0.603748    0.584147    (00:00)\n",
      "3      0.571739    0.567589    (00:00)\n",
      "4      0.527135    0.577944    (00:00)\n",
      "5      0.497058    0.585133    (00:00)\n",
      "6      0.496856    0.588479    (00:00)\n",
      "7      0.494808    0.582944    (00:00)\n",
      "8      0.489002    0.578461    (00:00)\n",
      "9      0.473444    0.576349    (00:00)\n",
      "10     0.460708    0.576785    (00:00)\n",
      "\n"
     ]
    }
   ],
   "source": [
    "learner.fit_one_cycle(10, max_lr=1e-3)"
   ]
  },
  {
   "cell_type": "code",
   "execution_count": null,
   "metadata": {},
   "outputs": [
    {
     "data": {
      "text/html": [
       "\n",
       "    <div>\n",
       "        <style>\n",
       "        \t/* Turns off some styling */\n",
       "        \tprogress {\n",
       "\n",
       "            \t/* gets rid of default border in Firefox and Opera. */\n",
       "            \tborder: none;\n",
       "\n",
       "            \t/* Needs to be in here for Safari polyfill so background images work as expected. */\n",
       "            \tbackground-size: auto;\n",
       "            }\n",
       "\n",
       "            .progress-bar-interrupted, .progress-bar-interrupted::-webkit-progress-bar {\n",
       "                background: #F44336;\n",
       "            }\n",
       "        </style>\n",
       "      <progress value='7' class='' max='10', style='width:300px; height:20px; vertical-align: middle;'></progress>\n",
       "      70.00% [7/10 00:00<00:00]\n",
       "    </div>\n",
       "    \n",
       "<table style='width:300px; margin-bottom:10px'>\n",
       "  <tr>\n",
       "    <th>epoch</th>\n",
       "    <th>train_loss</th>\n",
       "    <th>valid_loss</th>\n",
       "  </tr>\n",
       "  <tr>\n",
       "    <th>1</th>\n",
       "    <th>0.405676</th>\n",
       "  </tr>\n",
       "  <tr>\n",
       "    <th>2</th>\n",
       "    <th>0.409618</th>\n",
       "  </tr>\n",
       "  <tr>\n",
       "    <th>3</th>\n",
       "    <th>0.410807</th>\n",
       "  </tr>\n",
       "  <tr>\n",
       "    <th>4</th>\n",
       "    <th>0.411278</th>\n",
       "  </tr>\n",
       "  <tr>\n",
       "    <th>5</th>\n",
       "    <th>0.409103</th>\n",
       "  </tr>\n",
       "  <tr>\n",
       "    <th>6</th>\n",
       "    <th>0.399810</th>\n",
       "  </tr>\n",
       "  <tr>\n",
       "    <th>7</th>\n",
       "    <th>0.399579</th>\n",
       "  </tr>\n",
       "  <tr>\n",
       "\n",
       "  </tr>\n",
       "</table>\n",
       "\n",
       "\n",
       "    <div>\n",
       "        <style>\n",
       "        \t/* Turns off some styling */\n",
       "        \tprogress {\n",
       "\n",
       "            \t/* gets rid of default border in Firefox and Opera. */\n",
       "            \tborder: none;\n",
       "\n",
       "            \t/* Needs to be in here for Safari polyfill so background images work as expected. */\n",
       "            \tbackground-size: auto;\n",
       "            }\n",
       "\n",
       "            .progress-bar-interrupted, .progress-bar-interrupted::-webkit-progress-bar {\n",
       "                background: #F44336;\n",
       "            }\n",
       "        </style>\n",
       "      <progress value='1' class='' max='11', style='width:300px; height:20px; vertical-align: middle;'></progress>\n",
       "      9.09% [1/11 00:00<00:00 0.4090]\n",
       "    </div>\n",
       "    "
      ],
      "text/plain": [
       "<IPython.core.display.HTML object>"
      ]
     },
     "metadata": {},
     "output_type": "display_data"
    }
   ],
   "source": [
    "learner.lr_find(); learner.recorder.plot()"
   ]
  },
  {
   "cell_type": "code",
   "execution_count": 62,
   "metadata": {},
   "outputs": [
    {
     "name": "stdout",
     "output_type": "stream",
     "text": [
      "Total time: 00:00\n",
      "epoch  train_loss  valid_loss\n",
      "1      0.156135    0.594673    (00:00)\n",
      "2      0.132428    0.597756    (00:00)\n",
      "3      0.118791    0.638026    (00:00)\n",
      "4      0.108471    0.632713    (00:00)\n",
      "5      0.095182    0.683758    (00:00)\n",
      "6      0.083774    0.707565    (00:00)\n",
      "7      0.074956    0.702792    (00:00)\n",
      "8      0.073051    0.697211    (00:00)\n",
      "9      0.066901    0.693853    (00:00)\n",
      "10     0.062391    0.693567    (00:00)\n",
      "\n"
     ]
    }
   ],
   "source": [
    "\n",
    "learner.fit_one_cycle(10)"
   ]
  },
  {
   "cell_type": "code",
   "execution_count": null,
   "metadata": {},
   "outputs": [],
   "source": []
  }
 ],
 "metadata": {
  "kernelspec": {
   "display_name": "Python 3",
   "language": "python",
   "name": "python3"
  },
  "language_info": {
   "codemirror_mode": {
    "name": "ipython",
    "version": 3
   },
   "file_extension": ".py",
   "mimetype": "text/x-python",
   "name": "python",
   "nbconvert_exporter": "python",
   "pygments_lexer": "ipython3",
   "version": "3.6.3"
  }
 },
 "nbformat": 4,
 "nbformat_minor": 2
}
