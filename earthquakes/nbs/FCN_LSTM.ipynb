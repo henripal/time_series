{
 "cells": [
  {
   "cell_type": "code",
   "execution_count": 1,
   "metadata": {},
   "outputs": [],
   "source": [
    "import numpy as np\n",
    "import matplotlib.pyplot as plt\n",
    "import pathlib\n",
    "import os\n",
    "%matplotlib inline\n",
    "import torch\n",
    "import torch.nn as nn\n",
    "import torch.nn.functional as F\n",
    "import torch.utils.data as torchdata\n",
    "import fastai"
   ]
  },
  {
   "cell_type": "markdown",
   "metadata": {},
   "source": [
    "# Fast AI Time Series Competition No1: Earthquakes.\n",
    "\n",
    "Data is already downloaded in `../data/`."
   ]
  },
  {
   "cell_type": "markdown",
   "metadata": {},
   "source": [
    "## Data Loading"
   ]
  },
  {
   "cell_type": "code",
   "execution_count": 2,
   "metadata": {},
   "outputs": [],
   "source": [
    "data_path = pathlib.Path('../data')\n",
    "batch_size = 128"
   ]
  },
  {
   "cell_type": "code",
   "execution_count": 3,
   "metadata": {},
   "outputs": [
    {
     "data": {
      "text/plain": [
       "['Earthquakes_TEST.txt',\n",
       " 'Earthquakes.txt',\n",
       " 'Earthquakes_TRAIN.arff',\n",
       " 'GADF',\n",
       " 'Earthquakes_TRAIN.txt',\n",
       " 'Earthquakes_TEST.arff']"
      ]
     },
     "execution_count": 3,
     "metadata": {},
     "output_type": "execute_result"
    }
   ],
   "source": [
    "os.listdir(data_path)"
   ]
  },
  {
   "cell_type": "code",
   "execution_count": 4,
   "metadata": {},
   "outputs": [],
   "source": [
    "train = np.loadtxt(data_path/'Earthquakes_TRAIN.txt')\n",
    "test = np.loadtxt(data_path/'Earthquakes_TEST.txt')"
   ]
  },
  {
   "cell_type": "code",
   "execution_count": 5,
   "metadata": {},
   "outputs": [],
   "source": [
    "train, train_labels = train[:, 1:], train[:, 0].astype(np.int)\n",
    "test, test_labels = test[:, 1:], test[:, 0].astype(np.int)"
   ]
  },
  {
   "cell_type": "code",
   "execution_count": 6,
   "metadata": {},
   "outputs": [],
   "source": [
    "train_ds = torchdata.TensorDataset(\n",
    "    torch.tensor(train, dtype=torch.float32),\n",
    "    torch.tensor(train_labels, dtype=torch.float32).unsqueeze(1))\n",
    "test_ds = torchdata.TensorDataset(\n",
    "    torch.tensor(test, dtype=torch.float32),\n",
    "    torch.tensor(test_labels, dtype=torch.float32).unsqueeze(1))"
   ]
  },
  {
   "cell_type": "code",
   "execution_count": 7,
   "metadata": {},
   "outputs": [],
   "source": [
    "train_dl = torchdata.DataLoader(train_ds, batch_size=batch_size, shuffle=True)\n",
    "test_dl = torchdata.DataLoader(test_ds, batch_size=batch_size, shuffle=True)"
   ]
  },
  {
   "cell_type": "code",
   "execution_count": 8,
   "metadata": {},
   "outputs": [],
   "source": [
    "data = fastai.DataBunch(train_dl, test_dl)"
   ]
  },
  {
   "cell_type": "markdown",
   "metadata": {},
   "source": [
    "## LSTM-FCNN\n",
    "This is a reimplementation of the LSTM-FCNN from https://ieeexplore-ieee-org.ezproxy.cul.columbia.edu/ielx7/6287639/8274985/08141873.pdf?tp=&arnumber=8141873&isnumber=8274985&tag=1\n",
    "\n",
    "The reported accuracy on the Earthquakes dataset in the paper is .8354."
   ]
  },
  {
   "cell_type": "code",
   "execution_count": 9,
   "metadata": {},
   "outputs": [],
   "source": [
    "class ShuffleLSTM(nn.Module):\n",
    "    def __init__(self, seq_length, dropout=0.0, hidden_size=128, num_layers=1, bidirectional=False):\n",
    "        super().__init__()\n",
    "        self.lstm = nn.LSTM(input_size=seq_length,\n",
    "                           hidden_size=hidden_size,\n",
    "                           num_layers=num_layers,\n",
    "                           bidirectional=bidirectional)\n",
    "        self.dropout = nn.Dropout(dropout)\n",
    "        \n",
    "    def forward(self, x):\n",
    "        ## input size will be the batch, input_size, seq_len =  64, 1, 512\n",
    "        ## we start with the shuffle layer, transforming this in a 1 step multivariate TS:\n",
    "        ## output should be 1, 64, 512\n",
    "        x = torch.transpose(x, 0, 1)\n",
    "        # input_size, batch, seq_len\n",
    "        out, (_, _) = self.lstm(x)\n",
    "        # after the lstm, the output will be 1, bs, lstm_size\n",
    "        return self.dropout(out)"
   ]
  },
  {
   "cell_type": "code",
   "execution_count": 10,
   "metadata": {},
   "outputs": [],
   "source": [
    "class ConvLayer(nn.Module):\n",
    "    def __init__(self, in_channels=1, n_channels=128, kernel_size=8, dropout=0.0):\n",
    "        super().__init__()\n",
    "        self.conv = nn.Conv1d(in_channels=in_channels,\n",
    "                             out_channels=n_channels,\n",
    "                             kernel_size=kernel_size)\n",
    "        self.bn = nn.BatchNorm1d(num_features=n_channels)\n",
    "        self.dropout = nn.Dropout(dropout)\n",
    "        \n",
    "    def forward(self, x):\n",
    "        # input size should be batch, input_size, length = 64, 1, 312 at first\n",
    "        x = self.conv(x)\n",
    "        # now batch, n_channels, L\n",
    "        x = self.bn(x)\n",
    "        x = F.relu(x)\n",
    "        # output will be bs, n_filters, L (not equal to inital L)\n",
    "        return self.dropout(x)\n",
    "    "
   ]
  },
  {
   "cell_type": "code",
   "execution_count": 11,
   "metadata": {},
   "outputs": [],
   "source": [
    "class LSTM_FCNN(nn.Module):\n",
    "    def __init__(self,\n",
    "                 seq_length,\n",
    "                 lstm_dropout=0.0,\n",
    "                 lstm_hidden_size=128,\n",
    "                 lstm_num_layers=1,\n",
    "                 lstm_bidirectional=False,\n",
    "                 conv_n_channels = [128, 256, 128],\n",
    "                 conv_kernel_sizes = [8, 5, 3],\n",
    "                 conv_dropout=0.0):\n",
    "        \n",
    "        super().__init__()\n",
    "        \n",
    "        self.lstm = ShuffleLSTM(seq_length,\n",
    "                                lstm_dropout,\n",
    "                                lstm_hidden_size,\n",
    "                                lstm_num_layers,\n",
    "                                lstm_bidirectional)\n",
    "        self.convs = []\n",
    "        \n",
    "        # global pool is avg pool using the last conv layer's size\n",
    "        self.global_avg_pool = nn.AvgPool1d(kernel_size = conv_n_channels[-1])\n",
    "        \n",
    "        # we set input equal to the previous channel's n\n",
    "        input_n = 1\n",
    "        for n_c, k_s in zip(conv_n_channels, conv_kernel_sizes):\n",
    "            conv = ConvLayer(input_n, n_c, k_s, conv_dropout)\n",
    "            self.convs.append(conv.cuda())\n",
    "            input_n = n_c\n",
    "            \n",
    "        # for the last FC layer, we need to know how long the TS is after \n",
    "        # the convolutional layers\n",
    "        out_len = seq_length - sum(conv_kernel_sizes) + len(conv_kernel_sizes)\n",
    "        \n",
    "        self.linear = nn.Linear(out_len + lstm_hidden_size, 1)\n",
    "        \n",
    "        \n",
    "        \n",
    "    def forward(self, x):\n",
    "        # our input is batch, seq_len\n",
    "        x = x.unsqueeze(1)\n",
    "        # batch, 1, seq_len\n",
    "        \n",
    "        \n",
    "        lstm_out = self.lstm(x)\n",
    "        lstm_out = torch.squeeze(lstm_out)\n",
    "        # lstm_out is bs, lstm_size\n",
    "        \n",
    "        for conv_layer in self.convs:\n",
    "            x = conv_layer(x)\n",
    "        # x is now bs, dimension, L\n",
    "        # avgpool1d averages over the last dimension so we transpose again\n",
    "        x = torch.transpose(x, 1, 2)\n",
    "        # bs, L, dimension\n",
    "        x = self.global_avg_pool(x)\n",
    "        x = torch.squeeze(x)\n",
    "        # bs, L\n",
    "        \n",
    "        concat = torch.cat((lstm_out, x), 1)\n",
    "        \n",
    "        return self.linear(concat)\n"
   ]
  },
  {
   "cell_type": "markdown",
   "metadata": {},
   "source": [
    "## Training"
   ]
  },
  {
   "cell_type": "code",
   "execution_count": 12,
   "metadata": {},
   "outputs": [],
   "source": [
    "model = LSTM_FCNN(512, lstm_dropout=0.8, lstm_hidden_size=8)"
   ]
  },
  {
   "cell_type": "code",
   "execution_count": 13,
   "metadata": {},
   "outputs": [],
   "source": [
    "loss = nn.BCEWithLogitsLoss()\n",
    "loss = loss.cuda()\n",
    "# loss = nn.BCEWithLogitsLoss()"
   ]
  },
  {
   "cell_type": "code",
   "execution_count": 14,
   "metadata": {},
   "outputs": [],
   "source": [
    "def my_acc(pred, targ):\n",
    "    ok = torch.tensor(torch.abs(torch.sign(pred)/2 + .5 - targ) < .01, dtype=torch.float32)\n",
    "    return torch.mean(ok)"
   ]
  },
  {
   "cell_type": "code",
   "execution_count": 15,
   "metadata": {},
   "outputs": [],
   "source": [
    "learner = fastai.Learner(data, model, loss_func=loss, metrics=my_acc)"
   ]
  },
  {
   "cell_type": "code",
   "execution_count": 16,
   "metadata": {},
   "outputs": [
    {
     "name": "stdout",
     "output_type": "stream",
     "text": [
      "LR Finder is complete, type {learner_name}.recorder.plot() to see the graph.\n"
     ]
    },
    {
     "data": {
      "image/png": "[encoded data removed]",
      "text/plain": [
       "<matplotlib.figure.Figure at 0x7f977a4b9d30>"
      ]
     },
     "metadata": {},
     "output_type": "display_data"
    }
   ],
   "source": [
    "learner.lr_find(); learner.recorder.plot()"
   ]
  },
  {
   "cell_type": "code",
   "execution_count": 17,
   "metadata": {},
   "outputs": [
    {
     "name": "stdout",
     "output_type": "stream",
     "text": [
      "Total time: 00:04\n",
      "epoch  train_loss  valid_loss  my_acc  \n",
      "1      0.672288    0.642583    0.748201  (00:00)\n",
      "2      0.634856    0.578489    0.748201  (00:00)\n",
      "3      0.582353    0.563130    0.748201  (00:00)\n",
      "4      0.545406    0.616019    0.748201  (00:00)\n",
      "5      0.541078    0.686644    0.748201  (00:00)\n",
      "6      0.537209    0.696313    0.748201  (00:00)\n",
      "7      0.532251    0.640189    0.748201  (00:00)\n",
      "8      0.523707    0.573574    0.748201  (00:00)\n",
      "9      0.515167    0.560567    0.748201  (00:00)\n",
      "10     0.508450    0.563040    0.748201  (00:00)\n",
      "11     0.499480    0.589447    0.748201  (00:00)\n",
      "12     0.493537    0.610038    0.748201  (00:00)\n",
      "13     0.486474    0.582483    0.748201  (00:00)\n",
      "14     0.480078    0.569009    0.748201  (00:00)\n",
      "15     0.475711    0.568138    0.748201  (00:00)\n",
      "16     0.467779    0.570417    0.748201  (00:00)\n",
      "17     0.459721    0.577428    0.748201  (00:00)\n",
      "18     0.453942    0.582416    0.748201  (00:00)\n",
      "19     0.447257    0.579898    0.748201  (00:00)\n",
      "20     0.441247    0.576289    0.748201  (00:00)\n",
      "21     0.434717    0.576509    0.748201  (00:00)\n",
      "22     0.429943    0.576408    0.748201  (00:00)\n",
      "23     0.423794    0.579641    0.748201  (00:00)\n",
      "24     0.417948    0.581802    0.748201  (00:00)\n",
      "25     0.411554    0.582939    0.748201  (00:00)\n",
      "26     0.405995    0.583333    0.748201  (00:00)\n",
      "27     0.400510    0.583155    0.748201  (00:00)\n",
      "28     0.396673    0.582974    0.748201  (00:00)\n",
      "29     0.394010    0.583046    0.748201  (00:00)\n",
      "30     0.389938    0.583141    0.748201  (00:00)\n",
      "\n"
     ]
    }
   ],
   "source": [
    "learner.fit_one_cycle(30, max_lr=1e-2)"
   ]
  },
  {
   "cell_type": "code",
   "execution_count": 18,
   "metadata": {},
   "outputs": [
    {
     "name": "stdout",
     "output_type": "stream",
     "text": [
      "LR Finder is complete, type {learner_name}.recorder.plot() to see the graph.\n"
     ]
    },
    {
     "data": {
      "image/png": "[encoded data removed]",
      "text/plain": [
       "<matplotlib.figure.Figure at 0x7f977a4b9ef0>"
      ]
     },
     "metadata": {},
     "output_type": "display_data"
    }
   ],
   "source": [
    "learner.lr_find(); learner.recorder.plot()"
   ]
  },
  {
   "cell_type": "code",
   "execution_count": 19,
   "metadata": {},
   "outputs": [
    {
     "name": "stdout",
     "output_type": "stream",
     "text": [
      "Total time: 00:04\n",
      "epoch  train_loss  valid_loss  my_acc  \n",
      "1      0.356582    0.577947    0.748201  (00:00)\n",
      "2      0.360321    0.576925    0.748201  (00:00)\n",
      "3      0.356662    0.575458    0.748201  (00:00)\n",
      "4      0.341612    0.585525    0.748201  (00:00)\n",
      "5      0.334751    0.574192    0.748201  (00:00)\n",
      "6      0.331527    0.581774    0.748201  (00:00)\n",
      "7      0.329802    0.569139    0.748201  (00:00)\n",
      "8      0.323944    0.584956    0.748201  (00:00)\n",
      "9      0.319378    0.572765    0.748201  (00:00)\n",
      "10     0.314556    0.606598    0.748201  (00:00)\n",
      "11     0.307851    0.592532    0.755396  (00:00)\n",
      "12     0.299846    0.601209    0.741007  (00:00)\n",
      "13     0.297417    0.623749    0.748201  (00:00)\n",
      "14     0.292756    0.622878    0.755396  (00:00)\n",
      "15     0.290351    0.640245    0.755396  (00:00)\n",
      "16     0.283117    0.680785    0.748201  (00:00)\n",
      "17     0.276419    0.602675    0.769784  (00:00)\n",
      "18     0.276857    0.588216    0.769784  (00:00)\n",
      "19     0.274952    0.655446    0.762590  (00:00)\n",
      "20     0.275630    0.661811    0.762590  (00:00)\n",
      "21     0.274740    0.607754    0.776978  (00:00)\n",
      "22     0.275014    0.606612    0.755396  (00:00)\n",
      "23     0.271526    0.651156    0.762590  (00:00)\n",
      "24     0.268015    0.710839    0.755396  (00:00)\n",
      "25     0.266615    0.707781    0.755396  (00:00)\n",
      "26     0.264248    0.681540    0.755396  (00:00)\n",
      "27     0.259088    0.662186    0.769784  (00:00)\n",
      "28     0.255800    0.654631    0.769784  (00:00)\n",
      "29     0.250932    0.651366    0.769784  (00:00)\n",
      "30     0.247291    0.650788    0.769784  (00:00)\n",
      "\n"
     ]
    }
   ],
   "source": [
    "learner.fit_one_cycle(30, max_lr=3e-2)"
   ]
  },
  {
   "cell_type": "code",
   "execution_count": null,
   "metadata": {},
   "outputs": [],
   "source": []
  }
 ],
 "metadata": {
  "kernelspec": {
   "display_name": "Python 3",
   "language": "python",
   "name": "python3"
  },
  "language_info": {
   "codemirror_mode": {
    "name": "ipython",
    "version": 3
   },
   "file_extension": ".py",
   "mimetype": "text/x-python",
   "name": "python",
   "nbconvert_exporter": "python",
   "pygments_lexer": "ipython3",
   "version": "3.6.3"
  }
 },
 "nbformat": 4,
 "nbformat_minor": 2
}
