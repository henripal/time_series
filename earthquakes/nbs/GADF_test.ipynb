{
 "cells": [
  {
   "cell_type": "markdown",
   "metadata": {},
   "source": [
    "# Reproducing Image results"
   ]
  },
  {
   "cell_type": "code",
   "execution_count": 1,
   "metadata": {},
   "outputs": [],
   "source": [
    "import pathlib\n",
    "import os\n",
    "import pyts\n",
    "import matplotlib.pyplot as plt\n",
    "import numpy as np\n",
    "import pandas as pd\n",
    "from scipy.io import arff\n",
    "%matplotlib inline"
   ]
  },
  {
   "cell_type": "code",
   "execution_count": 2,
   "metadata": {},
   "outputs": [],
   "source": [
    "from fastai import *\n",
    "from fastai.vision import * "
   ]
  },
  {
   "cell_type": "code",
   "execution_count": 3,
   "metadata": {},
   "outputs": [],
   "source": [
    "data_path = pathlib.Path('../data')\n",
    "train_data = arff.loadarff(data_path/'Earthquakes_TRAIN.arff')\n",
    "valid_data = arff.loadarff(data_path/'Earthquakes_TEST.arff')"
   ]
  },
  {
   "cell_type": "code",
   "execution_count": 4,
   "metadata": {},
   "outputs": [],
   "source": [
    "def make_dataframe(arff_data):\n",
    "    \"\"\"\n",
    "    Returns formated dataframe from raw arff data\n",
    "    \"\"\"\n",
    "    df = pd.DataFrame(arff_data[0])\n",
    "    df.columns = [k for k in range(df.shape[1]-1)]+['target']\n",
    "    df['target'] = df['target'].apply(lambda x: x.decode('ascii')).astype('int')\n",
    "    return df"
   ]
  },
  {
   "cell_type": "code",
   "execution_count": 5,
   "metadata": {},
   "outputs": [],
   "source": [
    "train_df = make_dataframe(train_data)\n",
    "valid_df = make_dataframe(valid_data)"
   ]
  },
  {
   "cell_type": "code",
   "execution_count": 6,
   "metadata": {},
   "outputs": [],
   "source": [
    "def create_and_mk_dir(root, subdirectory_name):\n",
    "    \"\"\"\n",
    "    Utility to create a directory from `root`:Path `subdirectory_name`:str\n",
    "    Returns the newly created Path\n",
    "    \"\"\"\n",
    "    new_path = pathlib.Path(root / subdirectory_name)\n",
    "    new_path.mkdir(exist_ok=True)\n",
    "    return new_path"
   ]
  },
  {
   "cell_type": "code",
   "execution_count": 7,
   "metadata": {},
   "outputs": [],
   "source": [
    "def make_directories(method_name, root_path):\n",
    "    \"\"\"\n",
    "    Creates the imagenet-style directories for the given `method_name`:str\n",
    "    and `root_path`:Path\n",
    "    root_path\n",
    "    └── method_name\n",
    "        ├── train\n",
    "        │   ├── false\n",
    "        │   └── true\n",
    "        └── valid\n",
    "            ├── false\n",
    "            └── true\n",
    "\n",
    "    \"\"\"\n",
    "    method_path = create_and_mk_dir(root_path, method_name)\n",
    "    for phase in ['train', 'valid']:\n",
    "        phase_path = create_and_mk_dir(method_path, phase)\n",
    "        for label in ['true', 'false']:\n",
    "            create_and_mk_dir(phase_path, label)\n",
    "            \n",
    "    return method_path"
   ]
  },
  {
   "cell_type": "code",
   "execution_count": 8,
   "metadata": {},
   "outputs": [],
   "source": [
    "method_path = make_directories('GADF', data_path)"
   ]
  },
  {
   "cell_type": "code",
   "execution_count": 9,
   "metadata": {},
   "outputs": [],
   "source": [
    "def fill_subdirectories(method_path, phase_name, transformer, df, image_size):\n",
    "    \"\"\"\n",
    "    for a given `transformer`:pyts.image.transformer, and a properly formatted TS dataframe,\n",
    "    this will fill out the directory structure.\n",
    "    The files are named according to their index in the data frame and the name of the phase\n",
    "    \"\"\"\n",
    "    image_data = transformer.fit_transform(df[:-1])\n",
    "    \n",
    "    true_path = pathlib.Path(method_path / phase_name / 'true')\n",
    "    false_path = pathlib.Path(method_path / phase_name / 'false')\n",
    "    \n",
    "    for image, label, idx in zip(image_data, df.target, df.index):\n",
    "        if label:\n",
    "            plt.imsave(str(true_path / '{0}{1}.png'.format(idx, phase_name)), image)\n",
    "        else:\n",
    "            plt.imsave(str(false_path / '{0}{1}.png'.format(idx, phase_name)), image)"
   ]
  },
  {
   "cell_type": "code",
   "execution_count": 10,
   "metadata": {},
   "outputs": [],
   "source": [
    "image_size = 128\n",
    "transformer = pyts.image.GADF(image_size=image_size)\n",
    "fill_subdirectories(method_path, 'train', transformer, train_df, image_size)\n",
    "fill_subdirectories(method_path, 'valid', transformer, valid_df, image_size)"
   ]
  },
  {
   "cell_type": "code",
   "execution_count": 11,
   "metadata": {},
   "outputs": [],
   "source": [
    "data = (ImageItemList.from_folder(method_path)\n",
    "       .split_by_folder()\n",
    "       .label_from_folder()\n",
    "       .databunch(bs=32))"
   ]
  },
  {
   "cell_type": "code",
   "execution_count": 12,
   "metadata": {},
   "outputs": [],
   "source": [
    "cnn = create_cnn(data, models.resnet34, metrics=accuracy)"
   ]
  },
  {
   "cell_type": "code",
   "execution_count": 13,
   "metadata": {},
   "outputs": [
    {
     "name": "stdout",
     "output_type": "stream",
     "text": [
      "LR Finder is complete, type {learner_name}.recorder.plot() to see the graph.\n"
     ]
    },
    {
     "data": {
      "image/png": "[encoded data removed]",
      "text/plain": [
       "<matplotlib.figure.Figure at 0x7f3f64085eb8>"
      ]
     },
     "metadata": {},
     "output_type": "display_data"
    }
   ],
   "source": [
    "cnn.lr_find(); cnn.recorder.plot()"
   ]
  },
  {
   "cell_type": "code",
   "execution_count": 14,
   "metadata": {},
   "outputs": [
    {
     "name": "stdout",
     "output_type": "stream",
     "text": [
      "Total time: 00:08\n",
      "epoch  train_loss  valid_loss  accuracy\n",
      "1      0.981892    0.630383    0.731884  (00:01)\n",
      "2      0.832828    0.749238    0.521739  (00:01)\n",
      "3      0.678769    0.627550    0.710145  (00:01)\n",
      "4      0.554536    0.618274    0.688406  (00:01)\n",
      "5      0.463866    0.635496    0.688406  (00:01)\n",
      "\n"
     ]
    }
   ],
   "source": [
    "cnn.fit_one_cycle(5, max_lr=2e-3)"
   ]
  },
  {
   "cell_type": "code",
   "execution_count": 15,
   "metadata": {},
   "outputs": [
    {
     "name": "stdout",
     "output_type": "stream",
     "text": [
      "LR Finder is complete, type {learner_name}.recorder.plot() to see the graph.\n"
     ]
    },
    {
     "data": {
      "image/png": "[encoded data removed]",
      "text/plain": [
       "<matplotlib.figure.Figure at 0x7f3f63e0b780>"
      ]
     },
     "metadata": {},
     "output_type": "display_data"
    }
   ],
   "source": [
    "cnn.unfreeze() ; cnn.lr_find() ; cnn.recorder.plot()"
   ]
  },
  {
   "cell_type": "code",
   "execution_count": 16,
   "metadata": {},
   "outputs": [
    {
     "name": "stdout",
     "output_type": "stream",
     "text": [
      "Total time: 00:16\n",
      "epoch  train_loss  valid_loss  accuracy\n",
      "1      0.212704    0.617267    0.695652  (00:01)\n",
      "2      0.195428    0.604743    0.710145  (00:01)\n",
      "3      0.173897    0.601230    0.695652  (00:01)\n",
      "4      0.164159    0.589560    0.688406  (00:01)\n",
      "5      0.149065    0.596402    0.681159  (00:01)\n",
      "6      0.133055    0.601654    0.688406  (00:01)\n",
      "7      0.123706    0.610229    0.710145  (00:01)\n",
      "8      0.110135    0.619832    0.702899  (00:01)\n",
      "9      0.099304    0.640512    0.702899  (00:01)\n",
      "10     0.091017    0.636186    0.717391  (00:01)\n",
      "\n"
     ]
    }
   ],
   "source": [
    "cnn.fit_one_cycle(10, max_lr = 5e-5)"
   ]
  },
  {
   "cell_type": "code",
   "execution_count": 17,
   "metadata": {},
   "outputs": [
    {
     "name": "stdout",
     "output_type": "stream",
     "text": [
      "Total time: 00:16\n",
      "epoch  train_loss  valid_loss  accuracy\n",
      "1      0.063990    0.634713    0.710145  (00:01)\n",
      "2      0.071323    0.634235    0.702899  (00:01)\n",
      "3      0.062687    0.626808    0.702899  (00:01)\n",
      "4      0.061994    0.621152    0.695652  (00:01)\n",
      "5      0.059441    0.626844    0.710145  (00:01)\n",
      "6      0.058340    0.643591    0.710145  (00:01)\n",
      "7      0.055941    0.648166    0.717391  (00:01)\n",
      "8      0.052962    0.655709    0.717391  (00:01)\n",
      "9      0.051215    0.658219    0.724638  (00:01)\n",
      "10     0.051999    0.675825    0.717391  (00:01)\n",
      "\n"
     ]
    }
   ],
   "source": [
    "cnn.fit_one_cycle(10, max_lr = 1e-5)"
   ]
  },
  {
   "cell_type": "code",
   "execution_count": null,
   "metadata": {},
   "outputs": [],
   "source": []
  }
 ],
 "metadata": {
  "kernelspec": {
   "display_name": "Python 3",
   "language": "python",
   "name": "python3"
  },
  "language_info": {
   "codemirror_mode": {
    "name": "ipython",
    "version": 3
   },
   "file_extension": ".py",
   "mimetype": "text/x-python",
   "name": "python",
   "nbconvert_exporter": "python",
   "pygments_lexer": "ipython3",
   "version": "3.6.3"
  }
 },
 "nbformat": 4,
 "nbformat_minor": 2
}
