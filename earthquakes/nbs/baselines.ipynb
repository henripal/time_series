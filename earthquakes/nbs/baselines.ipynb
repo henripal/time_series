{
 "cells": [
  {
   "cell_type": "code",
   "execution_count": 1,
   "metadata": {},
   "outputs": [],
   "source": [
    "import numpy as np\n",
    "import matplotlib.pyplot as plt\n",
    "import pathlib\n",
    "import os\n",
    "import scipy.signal\n",
    "import sklearn.linear_model\n",
    "import xgboost\n",
    "import pyts\n",
    "%matplotlib inline"
   ]
  },
  {
   "cell_type": "markdown",
   "metadata": {},
   "source": [
    "# Fast AI Time Series Competition No1: Earthquakes.\n",
    "\n",
    "Data is already downloaded in `../data/`. This notebook is mostly exploratory - trying a couple of baseline models."
   ]
  },
  {
   "cell_type": "markdown",
   "metadata": {},
   "source": [
    "## Data Loading"
   ]
  },
  {
   "cell_type": "code",
   "execution_count": 2,
   "metadata": {},
   "outputs": [],
   "source": [
    "data_path = pathlib.Path('../data')"
   ]
  },
  {
   "cell_type": "code",
   "execution_count": 3,
   "metadata": {},
   "outputs": [
    {
     "data": {
      "text/plain": [
       "['Earthquakes_TEST.txt',\n",
       " 'Earthquakes_TRAIN.txt',\n",
       " 'Earthquakes_TRAIN.arff',\n",
       " 'Earthquakes.txt',\n",
       " 'Earthquakes_TEST.arff']"
      ]
     },
     "execution_count": 3,
     "metadata": {},
     "output_type": "execute_result"
    }
   ],
   "source": [
    "os.listdir(data_path)"
   ]
  },
  {
   "cell_type": "code",
   "execution_count": 4,
   "metadata": {},
   "outputs": [],
   "source": [
    "train = np.loadtxt(data_path/'Earthquakes_TRAIN.txt')\n",
    "test = np.loadtxt(data_path/'Earthquakes_TEST.txt')"
   ]
  },
  {
   "cell_type": "code",
   "execution_count": 5,
   "metadata": {},
   "outputs": [],
   "source": [
    "train, train_labels = train[:, 1:], train[:, 0].astype(np.int)\n",
    "test, test_labels = test[:, 1:], test[:, 0].astype(np.int)"
   ]
  },
  {
   "cell_type": "markdown",
   "metadata": {},
   "source": [
    "We've now nicely numpified our data. Let's try a couple of very simple models."
   ]
  },
  {
   "cell_type": "code",
   "execution_count": 6,
   "metadata": {},
   "outputs": [],
   "source": [
    "def test_accuracy(predictions):\n",
    "    return np.mean(test_labels == predictions)\n",
    "\n",
    "def pretty_result(result, method):\n",
    "    print(\"Accuracy of {0}: {1:.4f}\".format(method, result))\n",
    "    \n",
    "    \n",
    "def normalize_features(features):\n",
    "    train_mean = np.mean(train)\n",
    "    train_std = np.std(train)\n",
    "    return (features - train_mean)/train_std"
   ]
  },
  {
   "cell_type": "markdown",
   "metadata": {},
   "source": [
    "## Constant Models:"
   ]
  },
  {
   "cell_type": "code",
   "execution_count": 7,
   "metadata": {},
   "outputs": [
    {
     "name": "stdout",
     "output_type": "stream",
     "text": [
      "Accuracy of all trues: 0.2518\n",
      "Accuracy of all falses: 0.7482\n"
     ]
    }
   ],
   "source": [
    "pretty_result(test_accuracy(np.ones_like(test_labels)), \"all trues\")\n",
    "pretty_result(test_accuracy(np.zeros_like(test_labels)), \"all falses\")"
   ]
  },
  {
   "cell_type": "markdown",
   "metadata": {},
   "source": [
    "## Spectral Features + Logistic Regression\n",
    "\n",
    "Here we extract the power spectrum, split naively in equal frequency ranges, then run a basic logistic regression classifier."
   ]
  },
  {
   "cell_type": "code",
   "execution_count": 8,
   "metadata": {},
   "outputs": [
    {
     "data": {
      "text/plain": [
       "33"
      ]
     },
     "execution_count": 8,
     "metadata": {},
     "output_type": "execute_result"
    }
   ],
   "source": [
    "nperseg = 64\n",
    "freqs, power = scipy.signal.welch(train[0], nperseg=nperseg)\n",
    "len(freqs)"
   ]
  },
  {
   "cell_type": "code",
   "execution_count": 9,
   "metadata": {},
   "outputs": [],
   "source": [
    "train_features = np.zeros((len(train), len(freqs)))\n",
    "test_features = np.zeros((len(test), len(freqs)))"
   ]
  },
  {
   "cell_type": "code",
   "execution_count": 10,
   "metadata": {},
   "outputs": [],
   "source": [
    "for i, train_serie in enumerate(train):\n",
    "    freqs, power = scipy.signal.welch(train_serie, nperseg= nperseg)\n",
    "    train_features[i] = power\n",
    "    \n",
    "for i, test_serie in enumerate(test):\n",
    "    freqs, power = scipy.signal.welch(test_serie, nperseg= nperseg)\n",
    "    test_features[i] = power"
   ]
  },
  {
   "cell_type": "code",
   "execution_count": 11,
   "metadata": {},
   "outputs": [
    {
     "name": "stderr",
     "output_type": "stream",
     "text": [
      "/Users/henripal/miniconda3/lib/python3.6/site-packages/sklearn/linear_model/logistic.py:432: FutureWarning: Default solver will be changed to 'lbfgs' in 0.22. Specify a solver to silence this warning.\n",
      "  FutureWarning)\n"
     ]
    }
   ],
   "source": [
    "logreg = sklearn.linear_model.LogisticRegression(C=0.1, class_weight=\"balanced\").fit(train_features, train_labels)"
   ]
  },
  {
   "cell_type": "code",
   "execution_count": 12,
   "metadata": {},
   "outputs": [
    {
     "name": "stdout",
     "output_type": "stream",
     "text": [
      "Accuracy of logistic regression on spectral features: 0.6187\n"
     ]
    }
   ],
   "source": [
    "pretty_result(logreg.score(test_features, test_labels), \"logistic regression on spectral features\")"
   ]
  },
  {
   "cell_type": "markdown",
   "metadata": {},
   "source": [
    "## Spectral Features + xgboost \n",
    "\n",
    "Based on the same features above, we run xgboost"
   ]
  },
  {
   "cell_type": "code",
   "execution_count": 138,
   "metadata": {},
   "outputs": [],
   "source": [
    "def run_xgboost(params, n_round, train_features, train_labels, test_features, test_labels, method=\"\", thresh=.5):\n",
    "    dtrain = xgboost.DMatrix(train_features, train_labels)\n",
    "    dtest = xgboost.DMatrix(test_features, test_labels)\n",
    "    bst = xgboost.train(param, dtrain, num_round)\n",
    "    preds = bst.predict(dtest)\n",
    "    predictions = (bst.predict(dtest) > thresh).astype(int)\n",
    "    pretty_result(test_accuracy(predictions), \"xgboost on \" + method)"
   ]
  },
  {
   "cell_type": "code",
   "execution_count": null,
   "metadata": {},
   "outputs": [],
   "source": [
    "param = {'max_depth':2, 'eta':1, 'silent':1, 'objective':'binary:logistic' }"
   ]
  },
  {
   "cell_type": "code",
   "execution_count": 139,
   "metadata": {},
   "outputs": [
    {
     "name": "stdout",
     "output_type": "stream",
     "text": [
      "Accuracy of xgboost on spectral features: 0.7410\n"
     ]
    }
   ],
   "source": [
    "run_xgboost(param, 2, train_features, train_labels, test_features, test_labels, \"spectral features\")"
   ]
  },
  {
   "cell_type": "markdown",
   "metadata": {},
   "source": [
    "## Time features + xgboost\n",
    "\n",
    "Based on the raw time features above, we run xgboost"
   ]
  },
  {
   "cell_type": "code",
   "execution_count": 141,
   "metadata": {},
   "outputs": [],
   "source": [
    "param = {'max_depth':2, 'eta':1, 'silent':1, 'gamma':0,\n",
    "         'min-child_weight': 0.1,\n",
    "         'max_delta_step': 0,\n",
    "         'objective':'binary:logistic' }"
   ]
  },
  {
   "cell_type": "code",
   "execution_count": 142,
   "metadata": {},
   "outputs": [
    {
     "name": "stdout",
     "output_type": "stream",
     "text": [
      "Accuracy of xgboost on time features: 0.7554\n"
     ]
    }
   ],
   "source": [
    "run_xgboost(param, 2, normalize_features(train), train_labels, normalize_features(test), test_labels, \"time features\")"
   ]
  },
  {
   "cell_type": "markdown",
   "metadata": {},
   "source": [
    "## PyTS experiments"
   ]
  },
  {
   "cell_type": "code",
   "execution_count": 145,
   "metadata": {},
   "outputs": [],
   "source": [
    "pyts_scaler = pyts.preprocessing.StandardScaler()"
   ]
  },
  {
   "cell_type": "code",
   "execution_count": 146,
   "metadata": {},
   "outputs": [],
   "source": [
    "normalized_train = pyts_scaler.fit_transform(train)\n",
    "normalized_test = pyts_scaler.transform(test)"
   ]
  },
  {
   "cell_type": "markdown",
   "metadata": {},
   "source": [
    "Let's try the NLP-like transforms available in pyts and slap xgboost on top:\n",
    "### Boss:"
   ]
  },
  {
   "cell_type": "code",
   "execution_count": 241,
   "metadata": {},
   "outputs": [
    {
     "data": {
      "text/plain": [
       "(322, 256)"
      ]
     },
     "execution_count": 241,
     "metadata": {},
     "output_type": "execute_result"
    }
   ],
   "source": [
    "boss = pyts.transformation.BOSS(4, 128)\n",
    "boss.fit(train, train_labels)\n",
    "boss_train = boss.transform(train)\n",
    "boss_test = boss.transform(test)\n",
    "boss_train.shape\n"
   ]
  },
  {
   "cell_type": "code",
   "execution_count": 242,
   "metadata": {},
   "outputs": [],
   "source": [
    "param = {'max_depth':2, 'eta':1, 'silent':1, 'gamma':0,\n",
    "         'min-child_weight': 0.1,\n",
    "         'max_delta_step': 0,\n",
    "         'objective':'binary:logistic' }"
   ]
  },
  {
   "cell_type": "code",
   "execution_count": 243,
   "metadata": {},
   "outputs": [
    {
     "name": "stdout",
     "output_type": "stream",
     "text": [
      "Accuracy of xgboost on boss features: 0.7194\n"
     ]
    }
   ],
   "source": [
    "run_xgboost(param, 4, boss_train, train_labels, boss_test, test_labels, \"boss features\")"
   ]
  },
  {
   "cell_type": "markdown",
   "metadata": {},
   "source": [
    "### WEASEL:"
   ]
  },
  {
   "cell_type": "code",
   "execution_count": 285,
   "metadata": {},
   "outputs": [
    {
     "data": {
      "text/plain": [
       "(322, 42)"
      ]
     },
     "execution_count": 285,
     "metadata": {},
     "output_type": "execute_result"
    }
   ],
   "source": [
    "weasel = pyts.transformation.WEASEL(2, window_sizes=[12, 24, 36], pvalue_threshold=.3)\n",
    "weasel.fit(train, train_labels)\n",
    "weasel_train = weasel.transform(train)\n",
    "weasel_test = weasel.transform(test)\n",
    "weasel_train.shape"
   ]
  },
  {
   "cell_type": "code",
   "execution_count": 286,
   "metadata": {},
   "outputs": [
    {
     "data": {
      "text/plain": [
       "Text(0, 0.5, 'Frequencies')"
      ]
     },
     "execution_count": 286,
     "metadata": {},
     "output_type": "execute_result"
    },
    {
     "data": {
      "image/png": "[encoded data removed]",
      "text/plain": [
       "<Figure size 432x288 with 1 Axes>"
      ]
     },
     "metadata": {},
     "output_type": "display_data"
    }
   ],
   "source": [
    "weasel_vec = weasel_train.toarray()[1]\n",
    "plt.bar(np.arange(weasel_vec.size), weasel_vec)\n",
    "plt.xticks(np.arange(weasel_vec.size),\n",
    "           np.vectorize(weasel.vocabulary_.get)(np.arange(weasel_vec.size)),\n",
    "           fontsize=12, rotation=60)\n",
    "plt.xlabel(\"Words\", fontsize=18)\n",
    "plt.ylabel(\"Frequencies\", fontsize=18)"
   ]
  },
  {
   "cell_type": "code",
   "execution_count": 287,
   "metadata": {},
   "outputs": [
    {
     "name": "stdout",
     "output_type": "stream",
     "text": [
      "Accuracy of xgboost on weasel features: 0.7626\n"
     ]
    }
   ],
   "source": [
    "param = {'max_depth':5, 'eta':.3, 'silent':1, 'gamma':1,\n",
    "         'min-child_weight': 0.8,\n",
    "         'max_delta_step': 1,\n",
    "         'objective':'binary:logistic' }\n",
    "run_xgboost(param, 3, weasel_train, train_labels, weasel_test, test_labels, \"weasel features\")"
   ]
  },
  {
   "cell_type": "markdown",
   "metadata": {},
   "source": [
    "### PyTS classifiers:\n",
    "We've seen that xgboost on the NLP features didn't perform very well. Let's try the SAX and Boss classifiers from pyts:"
   ]
  },
  {
   "cell_type": "code",
   "execution_count": 200,
   "metadata": {},
   "outputs": [
    {
     "name": "stderr",
     "output_type": "stream",
     "text": [
      "/Users/henripal/miniconda3/lib/python3.6/site-packages/sklearn/utils/validation.py:558: FutureWarning: Beginning in version 0.22, arrays of bytes/strings will be converted to decimal numbers if dtype='numeric'. It is recommended that you convert the array to a float dtype before using it in scikit-learn, for example by using your_array = your_array.astype(np.float64).\n",
      "  FutureWarning)\n",
      "/Users/henripal/miniconda3/lib/python3.6/site-packages/sklearn/utils/validation.py:558: FutureWarning: Beginning in version 0.22, arrays of bytes/strings will be converted to decimal numbers if dtype='numeric'. It is recommended that you convert the array to a float dtype before using it in scikit-learn, for example by using your_array = your_array.astype(np.float64).\n",
      "  FutureWarning)\n"
     ]
    },
    {
     "name": "stdout",
     "output_type": "stream",
     "text": [
      "Accuracy of SAX: 0.7482\n"
     ]
    }
   ],
   "source": [
    "sax_classifier = pyts.classification.SAXVSMClassifier(n_bins=2, window_size=8)\n",
    "sax_classifier.fit(normalized_train, train_labels)\n",
    "pretty_result(sax_classifier.score(normalized_test, test_labels), \"SAX\")"
   ]
  },
  {
   "cell_type": "code",
   "execution_count": 220,
   "metadata": {},
   "outputs": [
    {
     "name": "stdout",
     "output_type": "stream",
     "text": [
      "Accuracy of BOSSVS classifier: 0.7554\n"
     ]
    }
   ],
   "source": [
    "boss_classifier = pyts.classification.BOSSVSClassifier(8, 128)\n",
    "boss_classifier.fit(normalized_train, train_labels)\n",
    "preds = boss_classifier.predict(normalized_test)\n",
    "pretty_result(test_accuracy(preds), \"BOSSVS classifier\")"
   ]
  },
  {
   "cell_type": "code",
   "execution_count": null,
   "metadata": {},
   "outputs": [],
   "source": []
  }
 ],
 "metadata": {
  "kernelspec": {
   "display_name": "Python 3",
   "language": "python",
   "name": "python3"
  },
  "language_info": {
   "codemirror_mode": {
    "name": "ipython",
    "version": 3
   },
   "file_extension": ".py",
   "mimetype": "text/x-python",
   "name": "python",
   "nbconvert_exporter": "python",
   "pygments_lexer": "ipython3",
   "version": "3.6.6"
  }
 },
 "nbformat": 4,
 "nbformat_minor": 2
}
